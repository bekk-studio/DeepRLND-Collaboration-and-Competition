{
 "cells": [
  {
   "cell_type": "markdown",
   "metadata": {},
   "source": [
    "# Collaboration and Competition\n",
    "\n",
    "---\n",
    "\n",
    "Congratulations for completing the third project of the [Deep Reinforcement Learning Nanodegree](https://www.udacity.com/course/deep-reinforcement-learning-nanodegree--nd893) program!  In this notebook, you will learn how to control agents in a more challenging environment, where the goal is to train a team of agents to play soccer.  **Note that this exercise is optional!**\n",
    "\n",
    "### 1. Start the Environment\n",
    "\n",
    "We begin by importing the necessary packages.  If the code cell below returns an error, please revisit the project instructions to double-check that you have installed [Unity ML-Agents](https://github.com/Unity-Technologies/ml-agents/blob/master/docs/Installation.md) and [NumPy](http://www.numpy.org/)."
   ]
  },
  {
   "cell_type": "code",
   "execution_count": 1,
   "metadata": {},
   "outputs": [],
   "source": [
    "from unityagents import UnityEnvironment\n",
    "import numpy as np"
   ]
  },
  {
   "cell_type": "markdown",
   "metadata": {},
   "source": [
    "Next, we will start the environment!  **_Before running the code cell below_**, change the `file_name` parameter to match the location of the Unity environment that you downloaded.\n",
    "\n",
    "- **Mac**: `\"path/to/Soccer.app\"`\n",
    "- **Windows** (x86): `\"path/to/Soccer_Windows_x86/Soccer.exe\"`\n",
    "- **Windows** (x86_64): `\"path/to/Soccer_Windows_x86_64/Soccer.exe\"`\n",
    "- **Linux** (x86): `\"path/to/Soccer_Linux/Soccer.x86\"`\n",
    "- **Linux** (x86_64): `\"path/to/Soccer_Linux/Soccer.x86_64\"`\n",
    "- **Linux** (x86, headless): `\"path/to/Soccer_Linux_NoVis/Soccer.x86\"`\n",
    "- **Linux** (x86_64, headless): `\"path/to/Soccer_Linux_NoVis/Soccer.x86_64\"`\n",
    "\n",
    "For instance, if you are using a Mac, then you downloaded `Soccer.app`.  If this file is in the same folder as the notebook, then the line below should appear as follows:\n",
    "```\n",
    "env = UnityEnvironment(file_name=\"Soccer.app\")\n",
    "```"
   ]
  },
  {
   "cell_type": "code",
   "execution_count": 3,
   "metadata": {},
   "outputs": [],
   "source": [
    "import glob\n",
    "path = glob.glob('./Soccer*/**/Soccer.exe', recursive=True)[0]"
   ]
  },
  {
   "cell_type": "code",
   "execution_count": 5,
   "metadata": {},
   "outputs": [
    {
     "name": "stderr",
     "output_type": "stream",
     "text": [
      "INFO:unityagents:\n",
      "'Academy' started successfully!\n",
      "Unity Academy name: Academy\n",
      "        Number of Brains: 2\n",
      "        Number of External Brains : 2\n",
      "        Lesson number : 0\n",
      "        Reset Parameters :\n",
      "\t\t\n",
      "Unity brain name: GoalieBrain\n",
      "        Number of Visual Observations (per agent): 0\n",
      "        Vector Observation space type: continuous\n",
      "        Vector Observation space size (per agent): 112\n",
      "        Number of stacked Vector Observation: 3\n",
      "        Vector Action space type: discrete\n",
      "        Vector Action space size (per agent): 4\n",
      "        Vector Action descriptions: , , , \n",
      "Unity brain name: StrikerBrain\n",
      "        Number of Visual Observations (per agent): 0\n",
      "        Vector Observation space type: continuous\n",
      "        Vector Observation space size (per agent): 112\n",
      "        Number of stacked Vector Observation: 3\n",
      "        Vector Action space type: discrete\n",
      "        Vector Action space size (per agent): 6\n",
      "        Vector Action descriptions: , , , , , \n"
     ]
    }
   ],
   "source": [
    "env = UnityEnvironment(file_name=path)"
   ]
  },
  {
   "cell_type": "markdown",
   "metadata": {},
   "source": [
    "Environments contain **_brains_** which are responsible for deciding the actions of their associated agents. Here we obtain separate brains for the striker and goalie agents."
   ]
  },
  {
   "cell_type": "code",
   "execution_count": 6,
   "metadata": {},
   "outputs": [
    {
     "name": "stdout",
     "output_type": "stream",
     "text": [
      "['GoalieBrain', 'StrikerBrain']\n"
     ]
    }
   ],
   "source": [
    "# print the brain names\n",
    "print(env.brain_names)\n",
    "\n",
    "# set the goalie brain\n",
    "g_brain_name = env.brain_names[0]\n",
    "g_brain = env.brains[g_brain_name]\n",
    "\n",
    "# set the striker brain\n",
    "s_brain_name = env.brain_names[1]\n",
    "s_brain = env.brains[s_brain_name]"
   ]
  },
  {
   "cell_type": "markdown",
   "metadata": {},
   "source": [
    "### 2. Examine the State and Action Spaces\n",
    "\n",
    "Run the code cell below to print some information about the environment."
   ]
  },
  {
   "cell_type": "code",
   "execution_count": 7,
   "metadata": {},
   "outputs": [
    {
     "name": "stdout",
     "output_type": "stream",
     "text": [
      "Number of goalie agents: 2\n",
      "Number of striker agents: 2\n",
      "Number of goalie actions: 4\n",
      "Number of striker actions: 6\n",
      "There are 2 goalie agents. Each receives a state with length: 336\n",
      "There are 2 striker agents. Each receives a state with length: 336\n"
     ]
    }
   ],
   "source": [
    "# reset the environment\n",
    "env_info = env.reset(train_mode=True)\n",
    "\n",
    "# number of agents \n",
    "num_g_agents = len(env_info[g_brain_name].agents)\n",
    "print('Number of goalie agents:', num_g_agents)\n",
    "num_s_agents = len(env_info[s_brain_name].agents)\n",
    "print('Number of striker agents:', num_s_agents)\n",
    "\n",
    "# number of actions\n",
    "g_action_size = g_brain.vector_action_space_size\n",
    "print('Number of goalie actions:', g_action_size)\n",
    "s_action_size = s_brain.vector_action_space_size\n",
    "print('Number of striker actions:', s_action_size)\n",
    "\n",
    "# examine the state space \n",
    "g_states = env_info[g_brain_name].vector_observations\n",
    "g_state_size = g_states.shape[1]\n",
    "print('There are {} goalie agents. Each receives a state with length: {}'.format(g_states.shape[0], g_state_size))\n",
    "s_states = env_info[s_brain_name].vector_observations\n",
    "s_state_size = s_states.shape[1]\n",
    "print('There are {} striker agents. Each receives a state with length: {}'.format(s_states.shape[0], s_state_size))"
   ]
  },
  {
   "cell_type": "markdown",
   "metadata": {},
   "source": [
    "### 3. Take Random Actions in the Environment\n",
    "\n",
    "In the next code cell, you will learn how to use the Python API to control the agents and receive feedback from the environment.\n",
    "\n",
    "Once this cell is executed, you will watch the agents' performance, if they select actions at random with each time step.  A window should pop up that allows you to observe the agents.\n",
    "\n",
    "Of course, as part of the project, you'll have to change the code so that the agents are able to use their experiences to gradually choose better actions when interacting with the environment!"
   ]
  },
  {
   "cell_type": "code",
   "execution_count": 8,
   "metadata": {},
   "outputs": [
    {
     "name": "stdout",
     "output_type": "stream",
     "text": [
      "Scores from episode 1: [1.00166669 1.00166669] (goalies), [-1.00166669 -1.00166669] (strikers)\n",
      "Scores from episode 2: [ 0.16833333 -0.93166679] (goalies), [ 0.93166679 -0.16833333] (strikers)\n"
     ]
    }
   ],
   "source": [
    "for i in range(2):                                         # play game for 2 episodes\n",
    "    env_info = env.reset(train_mode=False)                 # reset the environment    \n",
    "    g_states = env_info[g_brain_name].vector_observations  # get initial state (goalies)\n",
    "    s_states = env_info[s_brain_name].vector_observations  # get initial state (strikers)\n",
    "    g_scores = np.zeros(num_g_agents)                      # initialize the score (goalies)\n",
    "    s_scores = np.zeros(num_s_agents)                      # initialize the score (strikers)\n",
    "    while True:\n",
    "        # select actions and send to environment\n",
    "        g_actions = np.random.randint(g_action_size, size=num_g_agents)\n",
    "        s_actions = np.random.randint(s_action_size, size=num_s_agents)\n",
    "        actions = dict(zip([g_brain_name, s_brain_name], \n",
    "                           [g_actions, s_actions]))\n",
    "        env_info = env.step(actions)                       \n",
    "        \n",
    "        # get next states\n",
    "        g_next_states = env_info[g_brain_name].vector_observations         \n",
    "        s_next_states = env_info[s_brain_name].vector_observations\n",
    "        \n",
    "        # get reward and update scores\n",
    "        g_rewards = env_info[g_brain_name].rewards  \n",
    "        s_rewards = env_info[s_brain_name].rewards\n",
    "        g_scores += g_rewards\n",
    "        s_scores += s_rewards\n",
    "        \n",
    "        # check if episode finished\n",
    "        done = np.any(env_info[g_brain_name].local_done)  \n",
    "        \n",
    "        # roll over states to next time step\n",
    "        g_states = g_next_states\n",
    "        s_states = s_next_states\n",
    "        \n",
    "        # exit loop if episode finished\n",
    "        if done:                                           \n",
    "            break\n",
    "    print('Scores from episode {}: {} (goalies), {} (strikers)'.format(i+1, g_scores, s_scores))"
   ]
  },
  {
   "cell_type": "markdown",
   "metadata": {},
   "source": [
    "When finished, you can close the environment."
   ]
  },
  {
   "cell_type": "code",
   "execution_count": 9,
   "metadata": {},
   "outputs": [],
   "source": [
    "env.close()"
   ]
  },
  {
   "cell_type": "markdown",
   "metadata": {},
   "source": [
    "### 4. It's Your Turn!\n",
    "\n",
    "Now it's your turn to train your own agent to solve the environment!  When training the environment, set `train_mode=True`, so that the line for resetting the environment looks like the following:\n",
    "```python\n",
    "env_info = env.reset(train_mode=True)[brain_name]\n",
    "```"
   ]
  },
  {
   "cell_type": "code",
   "execution_count": null,
   "metadata": {},
   "outputs": [],
   "source": []
  },
  {
   "cell_type": "code",
   "execution_count": 10,
   "metadata": {},
   "outputs": [],
   "source": [
    "import numpy as np"
   ]
  },
  {
   "cell_type": "code",
   "execution_count": 32,
   "metadata": {},
   "outputs": [],
   "source": [
    "ks = [np.random.randint(1), np.random.randint(3)]"
   ]
  },
  {
   "cell_type": "code",
   "execution_count": 33,
   "metadata": {},
   "outputs": [
    {
     "data": {
      "text/plain": [
       "[0, 2]"
      ]
     },
     "execution_count": 33,
     "metadata": {},
     "output_type": "execute_result"
    }
   ],
   "source": [
    "ks"
   ]
  },
  {
   "cell_type": "code",
   "execution_count": 35,
   "metadata": {},
   "outputs": [
    {
     "data": {
      "text/plain": [
       "0"
      ]
     },
     "execution_count": 35,
     "metadata": {},
     "output_type": "execute_result"
    }
   ],
   "source": [
    "np.random.randint(1)"
   ]
  },
  {
   "cell_type": "code",
   "execution_count": 37,
   "metadata": {},
   "outputs": [],
   "source": [
    "a = np.random.randn(64,4)"
   ]
  },
  {
   "cell_type": "code",
   "execution_count": 39,
   "metadata": {},
   "outputs": [],
   "source": [
    "b = np.zeros_like(a)"
   ]
  },
  {
   "cell_type": "code",
   "execution_count": 41,
   "metadata": {},
   "outputs": [],
   "source": [
    "b[:,2] = a[:,2]"
   ]
  },
  {
   "cell_type": "code",
   "execution_count": 43,
   "metadata": {},
   "outputs": [],
   "source": [
    "b[:,0] = a[:,0]"
   ]
  },
  {
   "cell_type": "code",
   "execution_count": 44,
   "metadata": {},
   "outputs": [
    {
     "data": {
      "text/plain": [
       "array([[-2.22036466,  0.        , -1.22575598,  0.        ],\n",
       "       [-0.28422624,  0.        ,  0.601571  ,  0.        ],\n",
       "       [ 0.05022641,  0.        , -0.08349774,  0.        ],\n",
       "       [-0.87626883,  0.        ,  1.93685629,  0.        ],\n",
       "       [ 0.26610502,  0.        , -0.89044456,  0.        ],\n",
       "       [ 1.65214655,  0.        ,  0.42520489,  0.        ],\n",
       "       [-2.38824283,  0.        , -0.04570621,  0.        ],\n",
       "       [-1.66041929,  0.        , -0.43225803,  0.        ],\n",
       "       [-0.54004631,  0.        , -0.62949243,  0.        ],\n",
       "       [-0.33272706,  0.        , -0.83113314,  0.        ],\n",
       "       [ 0.60079532,  0.        , -0.05620343,  0.        ],\n",
       "       [ 0.11948267,  0.        , -2.47112046,  0.        ],\n",
       "       [-1.45584847,  0.        , -0.16485034,  0.        ],\n",
       "       [ 0.82944133,  0.        ,  0.65605473,  0.        ],\n",
       "       [-1.76155783,  0.        , -0.72372603,  0.        ],\n",
       "       [ 1.93435574,  0.        ,  0.85257912,  0.        ],\n",
       "       [ 1.75940326,  0.        ,  0.17989903,  0.        ],\n",
       "       [-1.38511798,  0.        , -0.18768482,  0.        ],\n",
       "       [-0.49217887,  0.        , -0.16548242,  0.        ],\n",
       "       [-1.49471237,  0.        , -0.26981258,  0.        ],\n",
       "       [ 0.01635132,  0.        , -1.47423598,  0.        ],\n",
       "       [ 0.0367949 ,  0.        , -0.96136171,  0.        ],\n",
       "       [ 0.21035373,  0.        ,  0.33759515,  0.        ],\n",
       "       [-1.53119895,  0.        , -0.39346739,  0.        ],\n",
       "       [-2.04732857,  0.        , -0.11267018,  0.        ],\n",
       "       [ 0.41138883,  0.        ,  0.10974544,  0.        ],\n",
       "       [ 1.1752814 ,  0.        , -0.5147834 ,  0.        ],\n",
       "       [ 0.14457907,  0.        ,  0.67880952,  0.        ],\n",
       "       [-1.0698543 ,  0.        ,  1.57678726,  0.        ],\n",
       "       [-1.32007403,  0.        ,  0.14450274,  0.        ],\n",
       "       [-1.10035212,  0.        , -1.85869588,  0.        ],\n",
       "       [-0.74281334,  0.        ,  0.70530763,  0.        ],\n",
       "       [-0.13515967,  0.        , -0.70352178,  0.        ],\n",
       "       [-1.55580809,  0.        , -0.91047308,  0.        ],\n",
       "       [ 0.30167825,  0.        , -0.32947205,  0.        ],\n",
       "       [ 0.21090996,  0.        ,  1.06383766,  0.        ],\n",
       "       [-1.51030903,  0.        , -0.32259507,  0.        ],\n",
       "       [-0.65926332,  0.        ,  0.96306916,  0.        ],\n",
       "       [ 1.15693385,  0.        , -1.09340087,  0.        ],\n",
       "       [-0.92070631,  0.        ,  0.11382058,  0.        ],\n",
       "       [ 0.42882093,  0.        , -0.72677718,  0.        ],\n",
       "       [ 0.86395384,  0.        ,  0.70029606,  0.        ],\n",
       "       [ 0.28966775,  0.        ,  0.79240822,  0.        ],\n",
       "       [-0.23364526,  0.        ,  0.81366549,  0.        ],\n",
       "       [ 0.86364801,  0.        , -1.42158665,  0.        ],\n",
       "       [-0.01667204,  0.        ,  1.23482143,  0.        ],\n",
       "       [-0.02548048,  0.        , -0.8935576 ,  0.        ],\n",
       "       [ 0.60609651,  0.        , -0.58895731,  0.        ],\n",
       "       [ 0.49349085,  0.        , -2.63708683,  0.        ],\n",
       "       [-0.86172669,  0.        , -1.35219283,  0.        ],\n",
       "       [-1.60320565,  0.        , -0.01330807,  0.        ],\n",
       "       [ 0.03134079,  0.        ,  0.78415343,  0.        ],\n",
       "       [ 0.40114287,  0.        , -1.6022932 ,  0.        ],\n",
       "       [-0.71731915,  0.        ,  0.18574266,  0.        ],\n",
       "       [-1.297831  ,  0.        ,  0.66797923,  0.        ],\n",
       "       [-1.23667687,  0.        , -0.91063805,  0.        ],\n",
       "       [-1.83741453,  0.        ,  0.68953526,  0.        ],\n",
       "       [ 0.73641377,  0.        , -0.42246732,  0.        ],\n",
       "       [ 1.05854842,  0.        , -1.9666694 ,  0.        ],\n",
       "       [-0.55746748,  0.        , -1.18392346,  0.        ],\n",
       "       [-0.20887488,  0.        ,  0.36079013,  0.        ],\n",
       "       [ 1.18289921,  0.        ,  0.36217664,  0.        ],\n",
       "       [-2.21265119,  0.        , -1.0073544 ,  0.        ],\n",
       "       [ 1.60611451,  0.        , -0.72705186,  0.        ]])"
      ]
     },
     "execution_count": 44,
     "metadata": {},
     "output_type": "execute_result"
    }
   ],
   "source": [
    "b"
   ]
  },
  {
   "cell_type": "code",
   "execution_count": 49,
   "metadata": {},
   "outputs": [],
   "source": [
    "\n",
    "app =[[['appj{}a{}k{}'.format(other,a,k)  for other in range(2 - 1)] for a in range(2)] for k in range(1)]"
   ]
  },
  {
   "cell_type": "code",
   "execution_count": 50,
   "metadata": {},
   "outputs": [
    {
     "data": {
      "text/plain": [
       "[[['appj0a0k0'], ['appj0a1k0']],\n",
       " [['appj0a0k1'], ['appj0a1k1']],\n",
       " [['appj0a0k2'], ['appj0a1k2']]]"
      ]
     },
     "execution_count": 50,
     "metadata": {},
     "output_type": "execute_result"
    }
   ],
   "source": [
    "app"
   ]
  },
  {
   "cell_type": "code",
   "execution_count": 51,
   "metadata": {},
   "outputs": [
    {
     "data": {
      "text/plain": [
       "['appj0a0k1']"
      ]
     },
     "execution_count": 51,
     "metadata": {},
     "output_type": "execute_result"
    }
   ],
   "source": [
    "app[1][0]"
   ]
  },
  {
   "cell_type": "code",
   "execution_count": null,
   "metadata": {},
   "outputs": [],
   "source": []
  }
 ],
 "metadata": {
  "kernelspec": {
   "display_name": "drlnd",
   "language": "python",
   "name": "drlnd"
  },
  "language_info": {
   "codemirror_mode": {
    "name": "ipython",
    "version": 3
   },
   "file_extension": ".py",
   "mimetype": "text/x-python",
   "name": "python",
   "nbconvert_exporter": "python",
   "pygments_lexer": "ipython3",
   "version": "3.6.7"
  }
 },
 "nbformat": 4,
 "nbformat_minor": 2
}
